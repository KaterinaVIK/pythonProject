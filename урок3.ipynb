{
 "cells": [
  {
   "cell_type": "code",
   "execution_count": 1,
   "id": "1ad71d18",
   "metadata": {},
   "outputs": [],
   "source": [
    "import math\n",
    "import pandas as pd\n",
    "import matplotlib.pyplot as plt\n",
    "from math import factorial as fct\n",
    "\n",
    "# сочетания\n",
    "def combinations(n, k):\n",
    "    return int(fct(n) / (fct(k) * fct(n - k)))"
   ]
  },
  {
   "cell_type": "code",
   "execution_count": 2,
   "id": "a31a812c",
   "metadata": {},
   "outputs": [],
   "source": [
    "table = [100, 80, 75, 77, 89, 33, 45, 25, 65, 17, 30, 24, 57, 55, 70, 75, 65, 84, 90, 150]"
   ]
  },
  {
   "cell_type": "code",
   "execution_count": 3,
   "id": "bbfacf99",
   "metadata": {},
   "outputs": [
    {
     "name": "stdout",
     "output_type": "stream",
     "text": [
      "Cреднее арифметическое: 65.3\n"
     ]
    }
   ],
   "source": [
    "def medium(table):\n",
    "    return sum(table) / len(table)\n",
    "print(f'Cреднее арифметическое: {medium(table)}')"
   ]
  },
  {
   "cell_type": "code",
   "execution_count": 4,
   "id": "bd02978c",
   "metadata": {},
   "outputs": [],
   "source": [
    "def dispersion(table, ddof=0):\n",
    "    medium_table = medium(table)\n",
    "    return sum((x - medium_table) ** 2 for x in table) / (len(table) - ddof)\n",
    "\n",
    "\n",
    "def std(table, ddof=0):\n",
    "     return dispersion(table, ddof=ddof) ** 0.5"
   ]
  },
  {
   "cell_type": "code",
   "execution_count": 5,
   "id": "0009e7ee",
   "metadata": {},
   "outputs": [
    {
     "name": "stdout",
     "output_type": "stream",
     "text": [
      "Cреднее квадратичное отклонение: 30.82\n"
     ]
    }
   ],
   "source": [
    "print('Cреднее квадратичное отклонение: {0:.2f}'.format(std(table)))"
   ]
  },
  {
   "cell_type": "code",
   "execution_count": 6,
   "id": "d8a6f81e",
   "metadata": {},
   "outputs": [
    {
     "name": "stdout",
     "output_type": "stream",
     "text": [
      "Дисперсия: 950.11\n"
     ]
    }
   ],
   "source": [
    "print('Дисперсия: {0:.2f}'.format(dispersion(table)))"
   ]
  },
  {
   "cell_type": "code",
   "execution_count": 7,
   "id": "b15747a4",
   "metadata": {},
   "outputs": [],
   "source": [
    "def box(x, y, n, k):\n",
    "    return combinations(k, x) * combinations (n-k, y-x) / combinations(n, y)\n",
    "    \n",
    "\n",
    "def box1(x, y=2):\n",
    "    return box(x, y, n=8, k=5)\n",
    "\n",
    "\n",
    "def box2(x, y=4):\n",
    "    return box(x, y, n=12, k=5)\n",
    "\n",
    "\n",
    "def boxes(x1, x2):\n",
    "    return box1(x1) * box2(x2)"
   ]
  },
  {
   "cell_type": "code",
   "execution_count": 8,
   "id": "64d277f8",
   "metadata": {},
   "outputs": [
    {
     "name": "stdout",
     "output_type": "stream",
     "text": [
      "Вероятность, что 3 мяча белые = 12.87%\n"
     ]
    }
   ],
   "source": [
    "print('Вероятность, что 3 мяча белые = {0:.2f}%'.format(boxes(0, 3) + boxes(1, 2) + boxes(2, 1) * 100))"
   ]
  },
  {
   "cell_type": "code",
   "execution_count": 9,
   "id": "0747615b",
   "metadata": {},
   "outputs": [],
   "source": [
    "p_a_b1 = 0.9\n",
    "p_a_b2 = 0.8\n",
    "p_a_b3 = 0.6\n",
    "\n",
    "p_b1 = p_b2 = p_b3 = p_bn = 1 / 3\n",
    "\n",
    "p_a = p_bn * (p_a_b1 + p_a_b2 + p_a_b3)\n",
    "\n",
    "p_b1_a = p_b1 * p_a_b1 / p_a\n",
    "p_b2_a = p_b2 * p_a_b2 / p_a\n",
    "p_b3_a = p_b3 * p_a_b3 / p_a"
   ]
  },
  {
   "cell_type": "code",
   "execution_count": 10,
   "id": "2b76020a",
   "metadata": {},
   "outputs": [
    {
     "name": "stdout",
     "output_type": "stream",
     "text": [
      "Вероятность, попадания для первого спортсмена = 39.13%\n",
      "Вероятность, попадания для второго спортсмена = 34.78%\n",
      "Вероятность, попадания для третьего спортсмена = 26.09%\n"
     ]
    }
   ],
   "source": [
    "print('Вероятность, попадания для первого спортсмена = {0:.2f}%'.format(p_b1_a * 100))\n",
    "print('Вероятность, попадания для второго спортсмена = {0:.2f}%'.format(p_b2_a * 100))\n",
    "print('Вероятность, попадания для третьего спортсмена = {0:.2f}%'.format(p_b3_a * 100))"
   ]
  },
  {
   "cell_type": "code",
   "execution_count": 11,
   "id": "7ea5910c",
   "metadata": {},
   "outputs": [],
   "source": [
    "p_a = p_b = 1 / 4\n",
    "p_c = 1 / 2\n",
    "\n",
    "p_x_a = 0.8\n",
    "p_x_b = 0.7\n",
    "p_x_c = 0.9\n",
    "\n",
    "p_x = p_a * p_x_a + p_b * p_x_b + p_c * p_x_c"
   ]
  },
  {
   "cell_type": "code",
   "execution_count": 12,
   "id": "f7d74c40",
   "metadata": {},
   "outputs": [],
   "source": [
    "p_a_x = p_a * p_x_a / p_x\n",
    "p_b_x = p_b * p_x_b / p_x\n",
    "p_c_x = p_c * p_x_c / p_x"
   ]
  },
  {
   "cell_type": "code",
   "execution_count": 13,
   "id": "3454fb3f",
   "metadata": {},
   "outputs": [
    {
     "name": "stdout",
     "output_type": "stream",
     "text": [
      "Вероятность, что он учится на факультете A = 24.24%\n",
      "Вероятность, что он учится на факультете Б = 21.21%\n",
      "Вероятность, что он учится на факультете С = 54.55%\n"
     ]
    }
   ],
   "source": [
    "print('Вероятность, что он учится на факультете A = {0:.2f}%'.format(p_a_x * 100))\n",
    "print('Вероятность, что он учится на факультете Б = {0:.2f}%'.format(p_b_x * 100))\n",
    "print('Вероятность, что он учится на факультете С = {0:.2f}%'.format(p_c_x * 100))"
   ]
  },
  {
   "cell_type": "code",
   "execution_count": 14,
   "id": "7d81f83c",
   "metadata": {},
   "outputs": [],
   "source": [
    "p_a = 0.1\n",
    "p_b = 0.2\n",
    "p_c = 0.25"
   ]
  },
  {
   "cell_type": "code",
   "execution_count": 15,
   "id": "194b8529",
   "metadata": {},
   "outputs": [
    {
     "name": "stdout",
     "output_type": "stream",
     "text": [
      "Вероятность, что все детали выйдут из строя в первый месяц = 0.50%\n"
     ]
    }
   ],
   "source": [
    "p_all = p_a * p_b * p_c\n",
    "print('Вероятность, что все детали выйдут из строя в первый месяц = {0:.2f}%'.format(p_all * 100))"
   ]
  },
  {
   "cell_type": "code",
   "execution_count": 16,
   "id": "e55677e6",
   "metadata": {},
   "outputs": [
    {
     "name": "stdout",
     "output_type": "stream",
     "text": [
      "Вероятность, что только две детали выйдут из строя в первый месяц = 8.00%\n"
     ]
    }
   ],
   "source": [
    "p_2 = p_a * p_b * (1 - p_c) + p_a * (1 - p_b) * p_c + (1 - p_a) * p_b * p_c\n",
    "print('Вероятность, что только две детали выйдут из строя в первый месяц = {0:.2f}%'.format(p_2 * 100))"
   ]
  },
  {
   "cell_type": "code",
   "execution_count": 17,
   "id": "ba0e2480",
   "metadata": {},
   "outputs": [
    {
     "name": "stdout",
     "output_type": "stream",
     "text": [
      "Вероятность, что хотя бы одна деталь выйдет из строя в первый месяц = 46.00%\n"
     ]
    }
   ],
   "source": [
    "p_any = 1 - (1 - p_a) * (1 - p_b) * (1 - p_c)\n",
    "print('Вероятность, что хотя бы одна деталь выйдет из строя в первый месяц = {0:.2f}%'.format(p_any * 100))"
   ]
  },
  {
   "cell_type": "code",
   "execution_count": 18,
   "id": "09967b33",
   "metadata": {},
   "outputs": [
    {
     "name": "stdout",
     "output_type": "stream",
     "text": [
      "Вероятность, что одна деталь выйдет из строя в первый месяц = 37.50%\n"
     ]
    }
   ],
   "source": [
    "p_1 = p_a * (1 - p_b) * (1 - p_c) + (1 - p_a) * p_b * (1 - p_c) + (1 - p_a) * (1 - p_b) * p_c\n",
    "print('Вероятность, что одна деталь выйдет из строя в первый месяц = {0:.2f}%'.format(p_1 * 100))"
   ]
  },
  {
   "cell_type": "code",
   "execution_count": 19,
   "id": "47295db0",
   "metadata": {},
   "outputs": [
    {
     "name": "stdout",
     "output_type": "stream",
     "text": [
      "Вероятность, что от одной до двух деталей выйдут из строя в первый месяц = 45.50%\n"
     ]
    }
   ],
   "source": [
    "p_1_or_2 = p_1 + p_2\n",
    "print('Вероятность, что от одной до двух деталей выйдут из строя в первый месяц = {0:.2f}%'.format(p_1_or_2 * 100))"
   ]
  },
  {
   "cell_type": "code",
   "execution_count": null,
   "id": "95239805",
   "metadata": {},
   "outputs": [],
   "source": []
  }
 ],
 "metadata": {
  "kernelspec": {
   "display_name": "Python 3 (ipykernel)",
   "language": "python",
   "name": "python3"
  },
  "language_info": {
   "codemirror_mode": {
    "name": "ipython",
    "version": 3
   },
   "file_extension": ".py",
   "mimetype": "text/x-python",
   "name": "python",
   "nbconvert_exporter": "python",
   "pygments_lexer": "ipython3",
   "version": "3.9.12"
  }
 },
 "nbformat": 4,
 "nbformat_minor": 5
}
