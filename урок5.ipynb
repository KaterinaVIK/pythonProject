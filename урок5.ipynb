{
 "cells": [
  {
   "cell_type": "code",
   "execution_count": 1,
   "id": "670c1fdc",
   "metadata": {},
   "outputs": [],
   "source": [
    "s = 16\n",
    "a = 1 - 0.95\n",
    "M = 80\n",
    "n = 256"
   ]
  },
  {
   "cell_type": "code",
   "execution_count": 2,
   "id": "4e4db406",
   "metadata": {},
   "outputs": [
    {
     "data": {
      "text/plain": [
       "1.96"
      ]
     },
     "execution_count": 2,
     "metadata": {},
     "output_type": "execute_result"
    }
   ],
   "source": [
    "# 1 - a/2 = 0.975\n",
    "# по таблице:\n",
    "\n",
    "z_a2 = 1.96\n",
    "dz = z_a2 * s / (n ** 0.5)\n",
    "dz"
   ]
  },
  {
   "cell_type": "code",
   "execution_count": 3,
   "id": "3215ce49",
   "metadata": {},
   "outputs": [
    {
     "data": {
      "text/plain": [
       "78.04"
      ]
     },
     "execution_count": 3,
     "metadata": {},
     "output_type": "execute_result"
    }
   ],
   "source": [
    "T1 = M - dz\n",
    "T1"
   ]
  },
  {
   "cell_type": "code",
   "execution_count": 4,
   "id": "750cdb50",
   "metadata": {},
   "outputs": [
    {
     "data": {
      "text/plain": [
       "81.96"
      ]
     },
     "execution_count": 4,
     "metadata": {},
     "output_type": "execute_result"
    }
   ],
   "source": [
    "T2 = M + dz\n",
    "T2"
   ]
  },
  {
   "cell_type": "code",
   "execution_count": 5,
   "id": "4ae6f101",
   "metadata": {},
   "outputs": [],
   "source": [
    "import numpy as np"
   ]
  },
  {
   "cell_type": "code",
   "execution_count": 6,
   "id": "8b652fd8",
   "metadata": {},
   "outputs": [],
   "source": [
    "x = np.array([6.9, 6.1, 6.2, 6.8, 7.5, 6.3, 6.4, 6.9, 6.7, 6.1])"
   ]
  },
  {
   "cell_type": "code",
   "execution_count": 7,
   "id": "c9bc1372",
   "metadata": {},
   "outputs": [
    {
     "data": {
      "text/plain": [
       "10"
      ]
     },
     "execution_count": 7,
     "metadata": {},
     "output_type": "execute_result"
    }
   ],
   "source": [
    "n = len(x)\n",
    "n"
   ]
  },
  {
   "cell_type": "code",
   "execution_count": 8,
   "id": "b3271a8a",
   "metadata": {},
   "outputs": [
    {
     "data": {
      "text/plain": [
       "6.590000000000001"
      ]
     },
     "execution_count": 8,
     "metadata": {},
     "output_type": "execute_result"
    }
   ],
   "source": [
    "M_x = x.mean()\n",
    "M_x"
   ]
  },
  {
   "cell_type": "code",
   "execution_count": 9,
   "id": "48a8096b",
   "metadata": {},
   "outputs": [
    {
     "data": {
      "text/plain": [
       "0.4508017549014448"
      ]
     },
     "execution_count": 9,
     "metadata": {},
     "output_type": "execute_result"
    }
   ],
   "source": [
    "std = x.std(ddof=1)\n",
    "std"
   ]
  },
  {
   "cell_type": "code",
   "execution_count": 10,
   "id": "3cf8e444",
   "metadata": {},
   "outputs": [],
   "source": [
    "# a/2 = 0.05/2 = 0.025\n",
    "# v = n-1 = 9\n",
    "# по таблице:\n",
    "\n",
    "t_a2 = 2.262"
   ]
  },
  {
   "cell_type": "code",
   "execution_count": 11,
   "id": "f68c21f6",
   "metadata": {},
   "outputs": [
    {
     "data": {
      "text/plain": [
       "0.32246174408757394"
      ]
     },
     "execution_count": 11,
     "metadata": {},
     "output_type": "execute_result"
    }
   ],
   "source": [
    "dt = t_a2 * std / (n ** 0.5)\n",
    "dt"
   ]
  },
  {
   "cell_type": "code",
   "execution_count": 12,
   "id": "4f9cb3ad",
   "metadata": {},
   "outputs": [
    {
     "data": {
      "text/plain": [
       "6.267538255912426"
      ]
     },
     "execution_count": 12,
     "metadata": {},
     "output_type": "execute_result"
    }
   ],
   "source": [
    "T1 = M_x - dt\n",
    "T1"
   ]
  },
  {
   "cell_type": "code",
   "execution_count": 13,
   "id": "55bf89b8",
   "metadata": {},
   "outputs": [
    {
     "data": {
      "text/plain": [
       "6.912461744087575"
      ]
     },
     "execution_count": 13,
     "metadata": {},
     "output_type": "execute_result"
    }
   ],
   "source": [
    "T2 = M_x + dt\n",
    "T2"
   ]
  },
  {
   "cell_type": "code",
   "execution_count": 14,
   "id": "7c08eb37",
   "metadata": {},
   "outputs": [],
   "source": [
    "a = 0.05\n",
    "n = 100\n",
    "m0 = 17\n",
    "m1 = 17.5\n",
    "D = 4\n",
    "std = D ** 0.5"
   ]
  },
  {
   "cell_type": "code",
   "execution_count": 16,
   "id": "f6bfd729",
   "metadata": {},
   "outputs": [
    {
     "data": {
      "text/plain": [
       "2.5"
      ]
     },
     "execution_count": 16,
     "metadata": {},
     "output_type": "execute_result"
    }
   ],
   "source": [
    "z0 = 1.645  # табличная величина для 0,95\n",
    "z1 = (m1 - m0) / (std / (n ** 0.5))\n",
    "z1"
   ]
  },
  {
   "cell_type": "code",
   "execution_count": 17,
   "id": "ef34408d",
   "metadata": {},
   "outputs": [
    {
     "data": {
      "text/plain": [
       "False"
      ]
     },
     "execution_count": 17,
     "metadata": {},
     "output_type": "execute_result"
    }
   ],
   "source": [
    "z1 < z0"
   ]
  },
  {
   "cell_type": "code",
   "execution_count": 18,
   "id": "115ebc28",
   "metadata": {},
   "outputs": [
    {
     "data": {
      "text/plain": [
       "198.5"
      ]
     },
     "execution_count": 18,
     "metadata": {},
     "output_type": "execute_result"
    }
   ],
   "source": [
    "c = np.array([202, 203, 199, 197, 195, 201, 200, 204, 194, 190])\n",
    "m1 = c.mean()\n",
    "m1"
   ]
  },
  {
   "cell_type": "code",
   "execution_count": 19,
   "id": "0fba8d8d",
   "metadata": {},
   "outputs": [
    {
     "data": {
      "text/plain": [
       "10"
      ]
     },
     "execution_count": 19,
     "metadata": {},
     "output_type": "execute_result"
    }
   ],
   "source": [
    "n = len(c)\n",
    "n"
   ]
  },
  {
   "cell_type": "code",
   "execution_count": 20,
   "id": "a50f00b8",
   "metadata": {},
   "outputs": [
    {
     "data": {
      "text/plain": [
       "4.453463071962462"
      ]
     },
     "execution_count": 20,
     "metadata": {},
     "output_type": "execute_result"
    }
   ],
   "source": [
    "std = c.std(ddof=1)\n",
    "std"
   ]
  },
  {
   "cell_type": "code",
   "execution_count": 21,
   "id": "657559ef",
   "metadata": {},
   "outputs": [],
   "source": [
    "# k = 10-1 = 9\n",
    "a = 0.005\n",
    "m0 = 200\n",
    "t0 = 3.25 # табличная величина для а = 0,01 и k = 9"
   ]
  },
  {
   "cell_type": "code",
   "execution_count": 22,
   "id": "a77ae707",
   "metadata": {},
   "outputs": [
    {
     "data": {
      "text/plain": [
       "1.0651074037450896"
      ]
     },
     "execution_count": 22,
     "metadata": {},
     "output_type": "execute_result"
    }
   ],
   "source": [
    "t1 = (m1 - m0) / (std / (n ** 0.5))\n",
    "abs(t1)"
   ]
  },
  {
   "cell_type": "code",
   "execution_count": 23,
   "id": "64fe7cd1",
   "metadata": {},
   "outputs": [
    {
     "data": {
      "text/plain": [
       "True"
      ]
     },
     "execution_count": 23,
     "metadata": {},
     "output_type": "execute_result"
    }
   ],
   "source": [
    "abs(t1) < t0"
   ]
  },
  {
   "cell_type": "code",
   "execution_count": null,
   "id": "63e3f4d1",
   "metadata": {},
   "outputs": [],
   "source": []
  }
 ],
 "metadata": {
  "kernelspec": {
   "display_name": "Python 3 (ipykernel)",
   "language": "python",
   "name": "python3"
  },
  "language_info": {
   "codemirror_mode": {
    "name": "ipython",
    "version": 3
   },
   "file_extension": ".py",
   "mimetype": "text/x-python",
   "name": "python",
   "nbconvert_exporter": "python",
   "pygments_lexer": "ipython3",
   "version": "3.9.12"
  }
 },
 "nbformat": 4,
 "nbformat_minor": 5
}
