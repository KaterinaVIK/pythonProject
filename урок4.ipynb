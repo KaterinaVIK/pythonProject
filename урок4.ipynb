{
 "cells": [
  {
   "cell_type": "code",
   "execution_count": 1,
   "id": "b77867da",
   "metadata": {},
   "outputs": [],
   "source": [
    "import matplotlib.pyplot as plt\n",
    "import numpy as np\n",
    "\n",
    "from scipy import stats\n",
    "from scipy.special import erf\n",
    "\n",
    "import warnings"
   ]
  },
  {
   "cell_type": "code",
   "execution_count": 2,
   "id": "7c159035",
   "metadata": {},
   "outputs": [],
   "source": [
    "a = 200\n",
    "b = 800"
   ]
  },
  {
   "cell_type": "code",
   "execution_count": 3,
   "id": "0b231492",
   "metadata": {},
   "outputs": [
    {
     "data": {
      "text/plain": [
       "500.0"
      ]
     },
     "execution_count": 3,
     "metadata": {},
     "output_type": "execute_result"
    }
   ],
   "source": [
    "M_x = (a + b) / 2\n",
    "M_x"
   ]
  },
  {
   "cell_type": "code",
   "execution_count": 4,
   "id": "62e73ff5",
   "metadata": {},
   "outputs": [
    {
     "data": {
      "text/plain": [
       "30000.0"
      ]
     },
     "execution_count": 4,
     "metadata": {},
     "output_type": "execute_result"
    }
   ],
   "source": [
    "D_x = (b - a) ** 2 / 12\n",
    "D_x"
   ]
  },
  {
   "cell_type": "code",
   "execution_count": 5,
   "id": "0a4c51d3",
   "metadata": {},
   "outputs": [],
   "source": [
    "D_x = 0.2\n",
    "a = 0.5"
   ]
  },
  {
   "cell_type": "code",
   "execution_count": 6,
   "id": "aa763571",
   "metadata": {},
   "outputs": [
    {
     "data": {
      "text/plain": [
       "2.049193338482967"
      ]
     },
     "execution_count": 6,
     "metadata": {},
     "output_type": "execute_result"
    }
   ],
   "source": [
    "# D_x = (b - a) ** 2 / 12 -->\n",
    "\n",
    "b = (12 * D_x) ** 0.5 + a\n",
    "b"
   ]
  },
  {
   "cell_type": "code",
   "execution_count": 7,
   "id": "e5ce2027",
   "metadata": {},
   "outputs": [
    {
     "data": {
      "text/plain": [
       "1.2745966692414834"
      ]
     },
     "execution_count": 7,
     "metadata": {},
     "output_type": "execute_result"
    }
   ],
   "source": [
    "M_x = (a + b) / 2\n",
    "M_x"
   ]
  },
  {
   "cell_type": "code",
   "execution_count": 8,
   "id": "0ff8c696",
   "metadata": {},
   "outputs": [],
   "source": [
    "M_x = -2\n",
    "D_x = 16\n",
    "std_x = 4"
   ]
  },
  {
   "cell_type": "code",
   "execution_count": 9,
   "id": "593ba5d8",
   "metadata": {},
   "outputs": [],
   "source": [
    "M_x = 174\n",
    "std_x = 8"
   ]
  },
  {
   "cell_type": "code",
   "execution_count": 10,
   "id": "bc715c3e",
   "metadata": {},
   "outputs": [],
   "source": [
    "def z(x, m_x=M_x, std_x=std_x):\n",
    "    return (x - m_x) / std_x"
   ]
  },
  {
   "cell_type": "code",
   "execution_count": 11,
   "id": "111cf8db",
   "metadata": {},
   "outputs": [
    {
     "data": {
      "text/plain": [
       "1.0"
      ]
     },
     "execution_count": 11,
     "metadata": {},
     "output_type": "execute_result"
    }
   ],
   "source": [
    "z(182)"
   ]
  },
  {
   "cell_type": "code",
   "execution_count": 12,
   "id": "d6acea63",
   "metadata": {},
   "outputs": [
    {
     "data": {
      "text/plain": [
       "2.0"
      ]
     },
     "execution_count": 12,
     "metadata": {},
     "output_type": "execute_result"
    }
   ],
   "source": [
    "z(190)"
   ]
  },
  {
   "cell_type": "code",
   "execution_count": 13,
   "id": "db585eb4",
   "metadata": {},
   "outputs": [
    {
     "data": {
      "text/plain": [
       "-1.0"
      ]
     },
     "execution_count": 13,
     "metadata": {},
     "output_type": "execute_result"
    }
   ],
   "source": [
    "z(166)"
   ]
  },
  {
   "cell_type": "code",
   "execution_count": 14,
   "id": "a0fe7d12",
   "metadata": {},
   "outputs": [
    {
     "data": {
      "text/plain": [
       "-2.0"
      ]
     },
     "execution_count": 14,
     "metadata": {},
     "output_type": "execute_result"
    }
   ],
   "source": [
    "z(158)"
   ]
  },
  {
   "cell_type": "code",
   "execution_count": 15,
   "id": "addd47d5",
   "metadata": {},
   "outputs": [
    {
     "data": {
      "text/plain": [
       "-3.0"
      ]
     },
     "execution_count": 15,
     "metadata": {},
     "output_type": "execute_result"
    }
   ],
   "source": [
    "z(150)"
   ]
  },
  {
   "cell_type": "code",
   "execution_count": 16,
   "id": "7c80b9fd",
   "metadata": {},
   "outputs": [
    {
     "data": {
      "text/plain": [
       "3.0"
      ]
     },
     "execution_count": 16,
     "metadata": {},
     "output_type": "execute_result"
    }
   ],
   "source": [
    "z(198)"
   ]
  },
  {
   "cell_type": "code",
   "execution_count": 17,
   "id": "7949811a",
   "metadata": {},
   "outputs": [],
   "source": [
    "# вероятности от среднего до +1, +2 и +3 сигм соответственно:\n",
    "\n",
    "s1 = 0.68 / 2\n",
    "s2 = 0.954 / 2\n",
    "s3 = 0.9972 / 2"
   ]
  },
  {
   "cell_type": "code",
   "execution_count": 18,
   "id": "c4eb8443",
   "metadata": {},
   "outputs": [
    {
     "data": {
      "text/plain": [
       "0.15999999999999998"
      ]
     },
     "execution_count": 18,
     "metadata": {},
     "output_type": "execute_result"
    }
   ],
   "source": [
    "# а). больше 182 см\n",
    "\n",
    "(1 - 2 * s1) / 2"
   ]
  },
  {
   "cell_type": "code",
   "execution_count": 19,
   "id": "eff976ce",
   "metadata": {},
   "outputs": [
    {
     "data": {
      "text/plain": [
       "0.02300000000000002"
      ]
     },
     "execution_count": 19,
     "metadata": {},
     "output_type": "execute_result"
    }
   ],
   "source": [
    "# б). больше 190 см\n",
    "\n",
    "(1 - 2 * s2) / 2"
   ]
  },
  {
   "cell_type": "code",
   "execution_count": 20,
   "id": "4d64b981",
   "metadata": {},
   "outputs": [
    {
     "data": {
      "text/plain": [
       "0.817"
      ]
     },
     "execution_count": 20,
     "metadata": {},
     "output_type": "execute_result"
    }
   ],
   "source": [
    "# в). от 166 см до 190 см\n",
    "\n",
    "s1 + s2"
   ]
  },
  {
   "cell_type": "code",
   "execution_count": 21,
   "id": "79d96f15",
   "metadata": {},
   "outputs": [
    {
     "data": {
      "text/plain": [
       "0.68"
      ]
     },
     "execution_count": 21,
     "metadata": {},
     "output_type": "execute_result"
    }
   ],
   "source": [
    "# г). от 166 см до 182 см\n",
    "\n",
    "2 * s1"
   ]
  },
  {
   "cell_type": "code",
   "execution_count": 22,
   "id": "81d82a05",
   "metadata": {},
   "outputs": [
    {
     "data": {
      "text/plain": [
       "0.954"
      ]
     },
     "execution_count": 22,
     "metadata": {},
     "output_type": "execute_result"
    }
   ],
   "source": [
    "# д). от 158 см до 190 см\n",
    "\n",
    "2 * s2"
   ]
  },
  {
   "cell_type": "code",
   "execution_count": 23,
   "id": "63a1c5f0",
   "metadata": {},
   "outputs": [
    {
     "data": {
      "text/plain": [
       "0.024400000000000033"
      ]
     },
     "execution_count": 23,
     "metadata": {},
     "output_type": "execute_result"
    }
   ],
   "source": [
    "# е). не выше 150 см или не ниже 190 см\n",
    "(1 - 2 * s3) / 2 + (1 - 2 * s2) / 2"
   ]
  },
  {
   "cell_type": "code",
   "execution_count": 24,
   "id": "20b6f280",
   "metadata": {},
   "outputs": [
    {
     "data": {
      "text/plain": [
       "0.0028000000000000247"
      ]
     },
     "execution_count": 24,
     "metadata": {},
     "output_type": "execute_result"
    }
   ],
   "source": [
    "# ё). не выше 150 см или не ниже 198 см\n",
    "\n",
    "1 - 2 * s3"
   ]
  },
  {
   "cell_type": "code",
   "execution_count": 25,
   "id": "80e0b6c5",
   "metadata": {},
   "outputs": [
    {
     "data": {
      "text/plain": [
       "0.15999999999999998"
      ]
     },
     "execution_count": 25,
     "metadata": {},
     "output_type": "execute_result"
    }
   ],
   "source": [
    "# ж). ниже 166 см.\n",
    "\n",
    "(1 - 2 * s1) / 2"
   ]
  },
  {
   "cell_type": "code",
   "execution_count": 26,
   "id": "0a3e8da7",
   "metadata": {},
   "outputs": [],
   "source": [
    "x = 190\n",
    "M_x = 178\n",
    "D_x = 25\n",
    "std_x = D_x ** 0.5"
   ]
  },
  {
   "cell_type": "code",
   "execution_count": 27,
   "id": "5df34783",
   "metadata": {},
   "outputs": [
    {
     "data": {
      "text/plain": [
       "2.4"
      ]
     },
     "execution_count": 27,
     "metadata": {},
     "output_type": "execute_result"
    }
   ],
   "source": [
    "z = (x - M_x) / std_x\n",
    "z"
   ]
  },
  {
   "cell_type": "code",
   "execution_count": null,
   "id": "940921b6",
   "metadata": {},
   "outputs": [],
   "source": []
  }
 ],
 "metadata": {
  "kernelspec": {
   "display_name": "Python 3 (ipykernel)",
   "language": "python",
   "name": "python3"
  },
  "language_info": {
   "codemirror_mode": {
    "name": "ipython",
    "version": 3
   },
   "file_extension": ".py",
   "mimetype": "text/x-python",
   "name": "python",
   "nbconvert_exporter": "python",
   "pygments_lexer": "ipython3",
   "version": "3.9.12"
  }
 },
 "nbformat": 4,
 "nbformat_minor": 5
}
